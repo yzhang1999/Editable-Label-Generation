{
 "cells": [
  {
   "cell_type": "code",
   "execution_count": 1,
   "metadata": {},
   "outputs": [
    {
     "name": "stderr",
     "output_type": "stream",
     "text": [
      "/Users/darwinye/anaconda3/envs/EASTOCR/lib/python3.9/site-packages/tqdm/auto.py:21: TqdmWarning: IProgress not found. Please update jupyter and ipywidgets. See https://ipywidgets.readthedocs.io/en/stable/user_install.html\n",
      "  from .autonotebook import tqdm as notebook_tqdm\n",
      "/Users/darwinye/anaconda3/envs/EASTOCR/lib/python3.9/site-packages/huggingface_hub/file_download.py:797: FutureWarning: `resume_download` is deprecated and will be removed in version 1.0.0. Downloads always resume when possible. If you want to force a new download, use `force_download=True`.\n",
      "  warnings.warn(\n",
      "Some weights of VisionEncoderDecoderModel were not initialized from the model checkpoint at microsoft/trocr-base-printed and are newly initialized: ['encoder.pooler.dense.weight', 'encoder.pooler.dense.bias']\n",
      "You should probably TRAIN this model on a down-stream task to be able to use it for predictions and inference.\n"
     ]
    }
   ],
   "source": [
    "from transformers import TrOCRProcessor, VisionEncoderDecoderModel\n",
    "from PIL import Image\n",
    "import torch\n",
    "import os\n",
    "\n",
    "# Load the processor and model\n",
    "processor = TrOCRProcessor.from_pretrained(\"microsoft/trocr-base-printed\")\n",
    "model = VisionEncoderDecoderModel.from_pretrained(\"microsoft/trocr-base-printed\")\n"
   ]
  },
  {
   "cell_type": "code",
   "execution_count": 4,
   "metadata": {},
   "outputs": [],
   "source": [
    "# Load an image from file\n",
    "image = Image.open(\n",
    "    # '/Users/darwinye/myfile/NorthwesternU/499 Capstone/Data_subset_Final/train/images/139.bmp'\n",
    "    '/Users/darwinye/myfile/NorthwesternU/499 Capstone/ZPL Project/ZPL Images/549.bmp',\n",
    "    #'/Users/darwinye/myfile/NorthwesternU/499 Capstone/ZPL Project/ZPL Images/581.bmp'\n",
    "    ).convert(\"RGB\")\n"
   ]
  },
  {
   "cell_type": "code",
   "execution_count": 5,
   "metadata": {},
   "outputs": [
    {
     "name": "stdout",
     "output_type": "stream",
     "text": [
      "Detected Text: SR/4 STORE RECAL TEST 1\n"
     ]
    }
   ],
   "source": [
    "# Preprocess the image\n",
    "pixel_values = processor(images=image, return_tensors=\"pt\").pixel_values\n",
    "\n",
    "# Generate the text with controlled length\n",
    "generated_ids = model.generate(pixel_values, max_new_tokens=50)  # Adjust max_new_tokens based on expected text length\n",
    "\n",
    "# Decode and print the detected text\n",
    "generated_text = processor.batch_decode(generated_ids, skip_special_tokens=True)[0]\n",
    "print(\"Detected Text:\", generated_text)\n"
   ]
  },
  {
   "cell_type": "markdown",
   "metadata": {},
   "source": [
    "## entire folder"
   ]
  },
  {
   "cell_type": "code",
   "execution_count": null,
   "metadata": {},
   "outputs": [],
   "source": [
    "# Folder containing the images\n",
    "image_folder = '/Users/darwinye/Downloads/Data_subset/test_directory/images'\n",
    "\n",
    "# Iterate over all files in the folder\n",
    "for filename in os.listdir(image_folder):\n",
    "    # Check if the file is a BMP image\n",
    "    if filename.endswith(\".bmp\"):\n",
    "        # Load the image\n",
    "        image_path = os.path.join(image_folder, filename)\n",
    "        image = Image.open(image_path).convert(\"RGB\")\n",
    "        \n",
    "        # Preprocess the image\n",
    "        pixel_values = processor(images=image, return_tensors=\"pt\").pixel_values\n",
    "\n",
    "        # Generate the text with controlled length\n",
    "        generated_ids = model.generate(pixel_values, max_new_tokens=50)  # Adjust max_new_tokens based on expected text length\n",
    "\n",
    "        # Decode and print the detected text\n",
    "        generated_text = processor.batch_decode(generated_ids, skip_special_tokens=True)[0]\n",
    "        print(f\"Detected Text for {filename}: {generated_text}\")"
   ]
  },
  {
   "cell_type": "code",
   "execution_count": null,
   "metadata": {},
   "outputs": [],
   "source": []
  },
  {
   "cell_type": "code",
   "execution_count": null,
   "metadata": {},
   "outputs": [],
   "source": []
  }
 ],
 "metadata": {
  "kernelspec": {
   "display_name": "EASTOCR",
   "language": "python",
   "name": "python3"
  },
  "language_info": {
   "codemirror_mode": {
    "name": "ipython",
    "version": 3
   },
   "file_extension": ".py",
   "mimetype": "text/x-python",
   "name": "python",
   "nbconvert_exporter": "python",
   "pygments_lexer": "ipython3",
   "version": "3.9.18"
  }
 },
 "nbformat": 4,
 "nbformat_minor": 2
}
