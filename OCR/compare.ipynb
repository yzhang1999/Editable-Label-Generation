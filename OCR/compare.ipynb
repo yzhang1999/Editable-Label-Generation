{
 "cells": [
  {
   "cell_type": "code",
   "execution_count": 1,
   "metadata": {},
   "outputs": [],
   "source": [
    "from difflib import SequenceMatcher\n",
    "import os\n",
    "import pandas as pd\n",
    "\n",
    "# Function to calculate character-level accuracy\n",
    "def calculate_character_accuracy(ocr_text, ground_truth_text):\n",
    "    matcher = SequenceMatcher(None, ocr_text, ground_truth_text)\n",
    "    return matcher.ratio() * 100\n",
    "\n",
    "# Function to calculate word-level accuracy\n",
    "def calculate_word_accuracy(ocr_text, ground_truth_text):\n",
    "    ocr_words = set(ocr_text.split())\n",
    "    ground_truth_words = set(ground_truth_text.split())\n",
    "    correct_words = ocr_words & ground_truth_words\n",
    "    return len(correct_words) / len(ground_truth_words) * 100 if ground_truth_words else 0\n",
    "\n",
    "# Function to calculate accuracies for all files\n",
    "def calculate_accuracies(ocr_folder, ground_truth_folder, output_file):\n",
    "    results = []\n",
    "\n",
    "    # Iterate through files in the OCR folder\n",
    "    for filename in os.listdir(ocr_folder):\n",
    "        if filename.endswith(\".txt\"):\n",
    "            ocr_file_path = os.path.join(ocr_folder, filename)\n",
    "            ground_truth_file_path = os.path.join(ground_truth_folder, filename)\n",
    "\n",
    "            # Check if the corresponding ground truth file exists\n",
    "            if os.path.exists(ground_truth_file_path):\n",
    "                # Skip empty files\n",
    "                if os.path.getsize(ocr_file_path) == 0 or os.path.getsize(ground_truth_file_path) == 0:\n",
    "                    print(f\"Skipping {filename}: One or both files are empty.\")\n",
    "                    continue\n",
    "\n",
    "                # Read OCR text and ground truth text\n",
    "                with open(ocr_file_path, \"r\") as ocr_file:\n",
    "                    ocr_text = ocr_file.read().strip()\n",
    "                with open(ground_truth_file_path, \"r\") as gt_file:\n",
    "                    ground_truth_text = gt_file.read().strip()\n",
    "\n",
    "                # Skip if either file is empty after stripping whitespace\n",
    "                if not ocr_text or not ground_truth_text:\n",
    "                    print(f\"Skipping {filename}: One or both files contain only whitespace.\")\n",
    "                    continue\n",
    "\n",
    "                # Calculate character and word-level accuracy\n",
    "                char_accuracy = calculate_character_accuracy(ocr_text, ground_truth_text)\n",
    "                word_accuracy = calculate_word_accuracy(ocr_text, ground_truth_text)\n",
    "\n",
    "                # Append results\n",
    "                results.append({\n",
    "                    \"file\": filename,\n",
    "                    \"character_accuracy (%)\": char_accuracy,\n",
    "                    \"word_accuracy (%)\": word_accuracy\n",
    "                })\n",
    "            else:\n",
    "                print(f\"Ground truth for {filename} not found. Skipping...\")\n",
    "\n",
    "    # Save results to a CSV or Excel file\n",
    "    results_df = pd.DataFrame(results)\n",
    "    results_df.to_excel(output_file, index=False)\n",
    "    print(f\"Accuracy results saved to {output_file}\")\n"
   ]
  },
  {
   "cell_type": "code",
   "execution_count": 2,
   "metadata": {},
   "outputs": [
    {
     "name": "stdout",
     "output_type": "stream",
     "text": [
      "Skipping 512.txt: One or both files are empty.\n",
      "Skipping 1243.txt: One or both files are empty.\n",
      "Skipping 201.txt: One or both files contain only whitespace.\n",
      "Skipping 1186.txt: One or both files are empty.\n",
      "Skipping 599.txt: One or both files are empty.\n",
      "Skipping 603.txt: One or both files are empty.\n",
      "Skipping 358.txt: One or both files are empty.\n",
      "Skipping 5.txt: One or both files are empty.\n",
      "Skipping 341.txt: One or both files are empty.\n",
      "Skipping 41.txt: One or both files are empty.\n",
      "Skipping 232.txt: One or both files contain only whitespace.\n",
      "Skipping 1217.txt: One or both files are empty.\n",
      "Skipping 877.txt: One or both files are empty.\n",
      "Skipping 692.txt: One or both files contain only whitespace.\n",
      "Skipping 319.txt: One or both files are empty.\n",
      "Skipping 1077.txt: One or both files are empty.\n",
      "Skipping 1102.txt: One or both files contain only whitespace.\n",
      "Skipping 1274.txt: One or both files contain only whitespace.\n",
      "Accuracy results saved to /Users/darwinye/myfile/NorthwesternU/499 Capstone/Data_subset_Final/test/accuracy_results.xlsx\n"
     ]
    }
   ],
   "source": [
    "ocr_folder = '/Users/darwinye/myfile/NorthwesternU/499 Capstone/Data_subset_Final/test/OCR_text'\n",
    "ground_truth_folder = '/Users/darwinye/myfile/NorthwesternU/499 Capstone/Data_subset_Final/test/groundtruth'\n",
    "output_file = '/Users/darwinye/myfile/NorthwesternU/499 Capstone/Data_subset_Final/test/accuracy_results.xlsx'\n",
    "\n",
    "calculate_accuracies(ocr_folder, ground_truth_folder, output_file)\n"
   ]
  },
  {
   "cell_type": "code",
   "execution_count": null,
   "metadata": {},
   "outputs": [],
   "source": []
  }
 ],
 "metadata": {
  "kernelspec": {
   "display_name": "base",
   "language": "python",
   "name": "python3"
  },
  "language_info": {
   "codemirror_mode": {
    "name": "ipython",
    "version": 3
   },
   "file_extension": ".py",
   "mimetype": "text/x-python",
   "name": "python",
   "nbconvert_exporter": "python",
   "pygments_lexer": "ipython3",
   "version": "3.11.8"
  }
 },
 "nbformat": 4,
 "nbformat_minor": 2
}
